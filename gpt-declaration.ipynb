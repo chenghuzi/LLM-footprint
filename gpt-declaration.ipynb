{
 "cells": [
  {
   "cell_type": "code",
   "execution_count": null,
   "metadata": {},
   "outputs": [],
   "source": [
    "\n",
    "import json\n",
    "import seaborn as sns\n",
    "import matplotlib.pyplot as plt\n",
    "import numpy as np\n",
    "import pandas as pd\n",
    "from pathlib import Path\n",
    "from binoculars.detector import BINOCULARS_ACCURACY_THRESHOLD, BINOCULARS_FPR_THRESHOLD\n",
    "from scipy import stats\n",
    "from scipy.stats import pearsonr\n",
    "from run_analysis import load_chatgpt_trends, cr_has_en, has_en_mapping, p2mark\n",
    "import matplotlib.colors as mcolors\n",
    "import seaborn as sns\n",
    "import joblib\n",
    "from statannotations.Annotator import Annotator\n",
    "from pySankey.sankey import sankey\n",
    "import matplotlib.cm as cm\n",
    "import statsmodels.api as sm\n",
    "from statsmodels.formula.api import ols, glm\n",
    "from pingouin import ancova\n",
    "import tiktoken\n",
    "import openai\n",
    "from tqdm import tqdm\n",
    "from semanticscholar import SemanticScholar\n",
    "sns.set_theme(style=\"ticks\")\n",
    "gpt_release_date = pd.to_datetime('2022-11-30')"
   ]
  },
  {
   "cell_type": "code",
   "execution_count": null,
   "metadata": {},
   "outputs": [],
   "source": [
    "df_bypaper_scored = pd.read_pickle('data/df_bypaper_scored.pkl')\n",
    "df_bypaper_scored['n_tokens_k'] = df_bypaper_scored['n_tokens']//1000\n",
    "df_bypaper_scored.describe()\n",
    "\n",
    "paperinfo_df = pd.read_hdf('data/allpaperinfo.hdf5')\n",
    "paperinfo_df = paperinfo_df.loc[paperinfo_df['country_region'] != 'None'].copy(\n",
    ")\n",
    "paperinfo_df['afterChatGPT'] = (\n",
    "    paperinfo_df['date'] >= gpt_release_date).astype(int)\n",
    "\n",
    "df_bypaper_scored.merge\n",
    "\n",
    "df_bypaper_scored = df_bypaper_scored.merge(\n",
    "    paperinfo_df[['platform',\n",
    "                  'title', 'date', 'category', 'country_region', 'authors',\n",
    "                  'afterChatGPT']],\n",
    "    right_on='_id',\n",
    "    left_index=True\n",
    ")\n",
    "df_bypaper_scored_after = df_bypaper_scored.loc[\n",
    "    df_bypaper_scored['afterChatGPT'] == 1\n",
    "].copy()"
   ]
  },
  {
   "cell_type": "code",
   "execution_count": null,
   "metadata": {},
   "outputs": [],
   "source": [
    "df_bypaper_scored_after.shape"
   ]
  },
  {
   "cell_type": "code",
   "execution_count": null,
   "metadata": {},
   "outputs": [],
   "source": [
    "df_bypaper_scored_short_low_bino = df_bypaper_scored_after.loc[\n",
    "    (df_bypaper_scored_after['bino_score_mean'] < df_bypaper_scored_after['bino_score_mean'].quantile(0.10)) & (\n",
    "        df_bypaper_scored_after['n_tokens_k'] < 10\n",
    "    )\n",
    "].copy()\n",
    "df_bypaper_scored_short_low_bino.shape"
   ]
  },
  {
   "cell_type": "code",
   "execution_count": null,
   "metadata": {},
   "outputs": [],
   "source": [
    "declarations = []\n",
    "for res in json.load(open('data/merged_declarations.json')):\n",
    "    if res['has'] in ('N', 'Y'):\n",
    "        declarations.append({\n",
    "            '_id': res['_id'],\n",
    "            'declaration': int(res['has'] == 'Y'),\n",
    "        })\n",
    "    else:\n",
    "        declarations.append({\n",
    "            '_id': res['_id'],\n",
    "            'declaration': -1,\n",
    "        })\n",
    "\n",
    "declarations = pd.DataFrame(declarations, columns=[\n",
    "                            '_id', 'declaration']).set_index('_id')\n",
    "declarations.head()\n",
    "df_bypaper_scored_after_declaration = df_bypaper_scored_after.merge(\n",
    "    declarations,\n",
    "    right_on='_id',\n",
    "    left_index=True\n",
    ")\n",
    "print(df_bypaper_scored_after_declaration['declaration'].mean())\n",
    "df_bypaper_scored_after_declaration.drop('text', axis=1).to_excel('data/paper_w_declarations.xlsx')\n",
    "stats.pearsonr(\n",
    "    df_bypaper_scored_after_declaration['declaration'],\n",
    "    df_bypaper_scored_after_declaration['bino_score_min'],\n",
    ")\n"
   ]
  },
  {
   "cell_type": "code",
   "execution_count": null,
   "metadata": {},
   "outputs": [],
   "source": [
    "df_bypaper_scored_after_declaration.loc[\n",
    "    df_bypaper_scored_after_declaration['declaration']==1.\n",
    "].copy().shape[0]/len(df_bypaper_scored_after_declaration)"
   ]
  }
 ],
 "metadata": {
  "kernelspec": {
   "display_name": ".venv",
   "language": "python",
   "name": "python3"
  },
  "language_info": {
   "codemirror_mode": {
    "name": "ipython",
    "version": 3
   },
   "file_extension": ".py",
   "mimetype": "text/x-python",
   "name": "python",
   "nbconvert_exporter": "python",
   "pygments_lexer": "ipython3",
   "version": "3.10.10"
  }
 },
 "nbformat": 4,
 "nbformat_minor": 2
}
